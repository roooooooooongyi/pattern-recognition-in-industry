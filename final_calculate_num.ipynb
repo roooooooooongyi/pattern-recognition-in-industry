{
 "cells": [
  {
   "cell_type": "code",
   "execution_count": 29,
   "metadata": {},
   "outputs": [],
   "source": [
    "import numpy as np \n",
    "import pandas as pd\n",
    "import matplotlib as mpl\n",
    "import matplotlib.pyplot as plt\n",
    "import seaborn as sns\n",
    "from statsmodels.sandbox.stats import runs\n",
    "from sklearn.cluster import MeanShift,estimate_bandwidth\n",
    "from sklearn.cluster import KMeans"
   ]
  },
  {
   "cell_type": "code",
   "execution_count": 30,
   "metadata": {},
   "outputs": [],
   "source": [
    "def omit_outlier(data):\n",
    "    y = data['实际电流']\n",
    "    Q1 = np.percentile(y, 25)\n",
    "    Q3 = np.percentile(y, 75)\n",
    "    uplimit = Q3+1*(Q3-Q1)\n",
    "    lowerlimit = Q1-1*(Q3-Q1)\n",
    "    y_clean = y.copy()\n",
    "#     y_clean = y_clean[y_clean>lowerlimit].reset_index(drop=True)\n",
    "    return y_clean\n",
    "\n",
    "def hampel_filter(Ia, k ,t0):\n",
    "    y = Ia.copy()\n",
    "    n = len(y)\n",
    "    L = 1.4826\n",
    "    for i in np.arange(k,n-k):\n",
    "        y0 = np.median(y[(i-k):(i+k)])\n",
    "        S0 = L * np.median(np.abs(y[(i-k):(i+k)]) - y0)\n",
    "        if np.abs(y[i]-y0) > t0*S0:\n",
    "            y[i] = y0\n",
    "    #min max scale\n",
    "    y_minmax = y.copy()\n",
    "#     y_minmax = (y-y.min())/(y.max()-y.min())\n",
    "    out = y_minmax.reset_index(drop=True)\n",
    "    return out\n"
   ]
  },
  {
   "cell_type": "code",
   "execution_count": 31,
   "metadata": {},
   "outputs": [],
   "source": [
    "# 简单波形\n",
    "data_all = pd.read_csv('/home/wrj/cal_num_python/mcj_data_0918.csv',encoding='gb2312')\n",
    "# data_all = pd.read_csv('/home/wrj/cal_num_python/train/摇臂钻床8D.csv',encoding='gb2312')\n",
    "# data_all = pd.read_csv('/home/wrj/cal_num_python/train/2018-12-21摇臂钻床8D2018112700036.csv',encoding='gb2312')\n",
    "# data_all = pd.read_csv('/home/wrj/cal_num_python/train/2018-12-21摇臂钻床7D2018112700037.csv',encoding='gb2312')\n",
    "# data_all = pd.read_csv('/home/wrj/cal_num_python/train/立式加工中心.csv',encoding='gb2312')\n",
    "\n",
    "# 复杂波形\n",
    "# data_all = pd.read_csv('/home/wrj/cal_num_python/train/卧式车床4D.csv',encoding='gb2312') # 加了一个条件 if np.min(data)==0 不处理\n",
    "# data_all = pd.read_csv('/home/wrj/cal_num_python/train/焊机3071_D2018112700047.csv',encoding='gb2312')\n",
    "# data_all = pd.read_csv('/home/wrj/cal_num_python/train/焊机.csv',encoding='gb2312')# k=1\n",
    "\n",
    "# yy\n",
    "# data_all = pd.read_csv('/home/wrj/cal_num_python/train/2019-01-04武汉法利莱JKG9015激光切管机D2018092501402数据导出c.csv',encoding='gb2312')\n",
    "# data_all = pd.read_csv('/home/wrj/cal_num_python/train/2019-01-08数控插齿机2D2018101200030数据导出c.csv',encoding='gb2312')\n",
    "# data_all = pd.read_csv('/home/wrj/cal_num_python/train/2019-01-04数控铣齿机4D2018101200022数据导出c.csv',encoding='gb2312')\n",
    "\n",
    "# data_all = pd.read_csv('/home/wrj/cal_num_python/train/2019-01-09法利莱等离子切割机-发生器2M2018082800828数据导出c.csv',encoding='gb2312')\n",
    "# data_all = pd.read_csv('/home/wrj/cal_num_python/train/2019-01-09拼板焊接专机 HP3000-P111213D2018092500874数据导出c.csv',encoding='gb2312')\n",
    "# data_all = pd.read_csv('/home/wrj/cal_num_python/train/2019-01-09数控床身式铣床D2018092502570数据导出c.csv',encoding='gb2312')\n",
    "\n",
    "# data_all = pd.read_csv('/home/wrj/cal_num_python/train/2019-01-09数控卧式铣镗床D2018092502625数据导出c.csv',encoding='gb2312')\n",
    "# data_all = pd.read_csv('/home/wrj/cal_num_python/train/2019-01-09数控卧式铣镗床D2018092502627数据导出c.csv',encoding='gb2312')\n",
    "# data_all = pd.read_csv('/home/wrj/cal_num_python/train/2019-01-09数控铣齿机3D2018101200020数据导出.csv',encoding='gb2312')\n",
    "\n",
    "# data_all = pd.read_csv('/home/wrj/cal_num_python/train/2019-01-09双面对置式落地铣镗床D2018092502649数据导出c.csv',encoding='gb2312')\n",
    "# data_all = pd.read_csv('/home/wrj/cal_num_python/train/2019-01-09镗床D2018092503402数据导出.csv',encoding='gb2312')\n",
    "\n",
    "\n",
    "data_all = data_all.rename(columns={'A相电流(Ia)':'实际电流'})\n",
    "data = data_all.dropna().reset_index()\n",
    "Ia = data['实际电流']"
   ]
  },
  {
   "cell_type": "code",
   "execution_count": null,
   "metadata": {},
   "outputs": [],
   "source": [
    "%%time\n",
    "k = 500\n",
    "Ia_clean = omit_outlier(data)\n",
    "Ia_ham = hampel_filter(Ia_clean, k, 3)  #k是一个超参数 表示左右多少的点计算滤波 \n"
   ]
  },
  {
   "cell_type": "code",
   "execution_count": null,
   "metadata": {},
   "outputs": [],
   "source": [
    "plt.rcParams['axes.facecolor'] = 'whitesmoke'\n",
    "fig = plt.figure(figsize=(13,6))\n",
    "plt.plot(data_all['实际电流'])\n",
    "plt.title(\"Image\",size=12)\n",
    "plt.grid(True)"
   ]
  },
  {
   "cell_type": "code",
   "execution_count": null,
   "metadata": {},
   "outputs": [],
   "source": [
    "fig = plt.figure(figsize=(13,6))\n",
    "plt.plot(Ia_clean)\n",
    "plt.title(\"只删除异常值后的作图\")\n",
    "plt.grid(True)"
   ]
  },
  {
   "cell_type": "code",
   "execution_count": null,
   "metadata": {},
   "outputs": [],
   "source": [
    "fig = plt.figure(figsize=(13,6))\n",
    "plt.plot(Ia_ham)\n",
    "plt.title(\"k=%s 时的hampel filter\" % k )\n",
    "plt.grid(True)"
   ]
  },
  {
   "cell_type": "markdown",
   "metadata": {},
   "source": [
    "### 2. 根据差分值较大的前80个点（状态点）\n"
   ]
  },
  {
   "cell_type": "code",
   "execution_count": null,
   "metadata": {},
   "outputs": [],
   "source": [
    "def cal_diff(thre,area_var,need_Ia_diff_pos):\n",
    "#     thre = 80 #40\n",
    "#     area_var = 5*60\n",
    "#     need_Ia_diff_pos = False\n",
    "    Ia_diff1 = pd.Series(np.diff(Ia_ham))\n",
    "    if need_Ia_diff_pos:\n",
    "        Ia_diff1_sort = Ia_diff1.sort_values(ascending=False).reset_index(drop=True)\n",
    "        thre_limit = Ia_diff1_sort[thre-1]\n",
    "#         _,_,p=sns.kdeplot(Ia_diff1)\n",
    "        Ia_diff1_great = Ia_diff1[Ia_diff1>thre_limit]\n",
    "    else:\n",
    "        Ia_diff1_sort = Ia_diff1.sort_values(ascending=True).reset_index(drop=True)\n",
    "        thre_limit = Ia_diff1_sort[thre-1]\n",
    "        Ia_diff1_great = Ia_diff1[Ia_diff1<thre_limit]\n",
    "    #     Ia_diff1_sort = (-Ia_diff1).sort_values(ascending=False).reset_index(drop=True)\n",
    "    #     thre_limit = Ia_diff1_sort[thre-1]\n",
    "    #     Ia_diff1_great = Ia_diff1[Ia_diff1>thre_limit]\n",
    "    mutation_point = Ia_diff1_great.index.values \n",
    "\n",
    "    var_c_list_all = []\n",
    "    var_c_list = []\n",
    "    mutation_list = []\n",
    "    for no, cur_mutation_point in enumerate(mutation_point):\n",
    "        left_boundary = max(0, cur_mutation_point-area_var)  # 太靠左边可能会有错误 因为样本半径内不足\n",
    "        right_boundary = min(len(Ia_ham), cur_mutation_point+area_var)  #太靠右边可能会有错误 因为样本半径内不足\n",
    "        left_data = Ia_ham[left_boundary:cur_mutation_point]\n",
    "        right_data = Ia_ham[cur_mutation_point:right_boundary]   \n",
    "        left_var = np.var(left_data)\n",
    "        right_var = np.var(right_data)\n",
    "        # mean\n",
    "        left_mean = np.mean(left_data)\n",
    "        right_mean = np.mean(right_data)\n",
    "        # 判断\n",
    "        if need_Ia_diff_pos:\n",
    "            if left_var == 0:\n",
    "                print(\"no=%s:左边的方差为0，出现异常\" % no)\n",
    "                left_var = 1e-4\n",
    "                var_c = right_var/left_var\n",
    "            var_c = right_var/left_var\n",
    "            var_c_list_all.append(var_c)\n",
    "            if left_mean<right_mean:  # 在var_c 较大的基础上 再增加一个 均值的判断条件\n",
    "                var_c_list.append(var_c)\n",
    "                mutation_list.append(cur_mutation_point)\n",
    "        else:\n",
    "            if right_var == 0:\n",
    "                print(\"no=%s:右边的方差为0，出现异常\" % no)\n",
    "                right_var = 1e-4\n",
    "                var_c = left_var/right_var\n",
    "            var_c = left_var/right_var\n",
    "    #         print(\"location\",cur_mutation_point)\n",
    "    #         print(\"left_var\", left_var)\n",
    "    #         print(\"right_var\", right_var)\n",
    "    #         print(\"var_c\",left_var/right_var)\n",
    "            var_c_list_all.append(var_c)\n",
    "            if left_mean>right_mean:  # 在var_c 较大的基础上 再增加一个 均值的判断条件\n",
    "                var_c_list.append(var_c)\n",
    "                mutation_list.append(cur_mutation_point)\n",
    "        var_c_np = np.array(var_c_list)\n",
    "        mutation_np = np.array(mutation_list)\n",
    "\n",
    "    score_var_c = pd.DataFrame({\"mutation_point\":mutation_np, \"var_c\":var_c_np}).sort_values(by=\"var_c\",ascending=False).reset_index(drop=True)\n",
    "    score_var_c_all = pd.DataFrame({\"all_var_c\":var_c_list_all,\"mutation_point\":mutation_point})\n",
    "    if need_Ia_diff_pos:\n",
    "        left_mutation = score_var_c.copy()\n",
    "        return left_mutation\n",
    "    else:\n",
    "        right_mutation = score_var_c.copy()\n",
    "        return right_mutation\n",
    "\n",
    "left_mutation = cal_diff(80,300,True)\n",
    "right_mutation = cal_diff(80,300,False)\n"
   ]
  },
  {
   "cell_type": "code",
   "execution_count": null,
   "metadata": {},
   "outputs": [],
   "source": [
    "# draw_score = score_var_c.copy()\n",
    "fig = plt.figure(figsize=(13,6))\n",
    "plt.plot(Ia_ham, c='grey')\n",
    "index_var_left = left_mutation['mutation_point']\n",
    "plt.scatter(index_var_left,Ia_ham[index_var_left],marker='^',c='red',linewidths=3)\n",
    "index_var_right = right_mutation['mutation_point']\n",
    "plt.scatter(index_var_right,Ia_ham[index_var_right],marker='v',c='blue',linewidths=3)\n",
    "plt.grid(True)"
   ]
  },
  {
   "cell_type": "markdown",
   "metadata": {},
   "source": [
    "##### 3. 筛选策略1：var_c"
   ]
  },
  {
   "cell_type": "code",
   "execution_count": null,
   "metadata": {},
   "outputs": [],
   "source": [
    "right_mutation = right_mutation.loc[right_mutation['var_c']>1].reset_index(drop=True)\n",
    "left_mutation = left_mutation.loc[left_mutation['var_c']>10].reset_index(drop=True)"
   ]
  },
  {
   "cell_type": "code",
   "execution_count": null,
   "metadata": {},
   "outputs": [],
   "source": [
    "# draw_score = score_var_c.copy()\n",
    "fig = plt.figure(figsize=(13,6))\n",
    "plt.plot(Ia_ham, c='grey')\n",
    "index_var_left = left_mutation['mutation_point']\n",
    "plt.scatter(index_var_left,Ia_ham[index_var_left],marker='^',c='red',linewidths=3)\n",
    "index_var_right = right_mutation['mutation_point']\n",
    "plt.scatter(index_var_right,Ia_ham[index_var_right],marker='v',c='blue',linewidths=3)\n",
    "plt.grid(True)"
   ]
  },
  {
   "cell_type": "markdown",
   "metadata": {},
   "source": [
    "##### 4.筛选策略2：窗口过滤冗余点，取窗口内var_c最大原则"
   ]
  },
  {
   "cell_type": "code",
   "execution_count": null,
   "metadata": {},
   "outputs": [],
   "source": [
    "K =2*k\n",
    "window = right_mutation['mutation_point']//K\n",
    "right_mutation['window'] = window\n",
    "right_mutation = right_mutation.sort_values(by=['window','var_c'],ascending=[True,False])\n",
    "right_mutation_filter = pd.DataFrame(right_mutation.groupby(['window']).first()).reset_index(drop=True)\n",
    "# right_mutation_filter"
   ]
  },
  {
   "cell_type": "code",
   "execution_count": null,
   "metadata": {},
   "outputs": [],
   "source": [
    "window = left_mutation['mutation_point']//k\n",
    "left_mutation['window'] = window\n",
    "left_mutation = left_mutation.sort_values(by=['window','var_c'],ascending=[True,False])\n",
    "left_mutation_filter = pd.DataFrame(left_mutation.groupby(['window']).first()).reset_index(drop=True)\n",
    "# left_mutation_filter"
   ]
  },
  {
   "cell_type": "code",
   "execution_count": null,
   "metadata": {},
   "outputs": [],
   "source": [
    "# draw_score = score_var_c.copy()\n",
    "fig = plt.figure(figsize=(13,6))\n",
    "plt.plot(Ia_ham, c='grey')\n",
    "index_var_left = left_mutation_filter['mutation_point']\n",
    "plt.scatter(index_var_left,Ia_ham[index_var_left],marker='^',c='red',linewidths=3)\n",
    "index_var_right = right_mutation_filter['mutation_point']\n",
    "plt.scatter(index_var_right,Ia_ham[index_var_right],marker='v',c='blue',linewidths=3)\n",
    "plt.grid(True)"
   ]
  },
  {
   "cell_type": "code",
   "execution_count": null,
   "metadata": {},
   "outputs": [],
   "source": [
    "left_mutation_filter"
   ]
  },
  {
   "cell_type": "markdown",
   "metadata": {},
   "source": [
    "##### 5. 筛选策略3：确保两点之间的唯一性"
   ]
  },
  {
   "cell_type": "code",
   "execution_count": null,
   "metadata": {},
   "outputs": [],
   "source": [
    "#（1）获取游程，左右边界集合\n",
    "left_mutation_filter[\"code\"] = 1\n",
    "right_mutation_filter[\"code\"] = 0\n",
    "all_mutation_filter = pd.concat([left_mutation_filter, right_mutation_filter], axis=0).sort_values(by=\"mutation_point\", ascending=True).reset_index(drop=True)\n",
    "all_mutation_filter['Ia_raw'] = Ia.values[all_mutation_filter[\"mutation_point\"]]\n",
    "code = all_mutation_filter[\"code\"].values\n",
    "mutation = all_mutation_filter['mutation_point'].values\n",
    "v1 = mutation.copy()\n",
    "code_diff = np.diff(code,n=1)\n",
    "# 处理游程不等于1的点集合\n",
    "state_run = runs.Runs(code)\n",
    "run_df = pd.DataFrame({'idx':state_run.runstart[:-1],'len':state_run.runs})\n",
    "# mutation_delete = set(range(len(all_mutation_filter)))&set(run_df.idx)\n",
    "tmp_Ia_raw = all_mutation_filter[\"Ia_raw\"]\n",
    "mutation_loc_unique = []\n",
    "idx_unique = []\n",
    "for i in range(len(run_df)):\n",
    "    start = run_df.loc[i,'idx']\n",
    "    end = run_df.loc[i,'idx']+run_df.loc[i,'len']\n",
    "    idxmin_ = tmp_Ia_raw[start:end].idxmin()\n",
    "    mutation_loc_unique.append(all_mutation_filter.loc[idxmin_,\"mutation_point\"])\n",
    "#     idx_unique.append(i)\n",
    "mutation_loc_unique = pd.DataFrame({\"mutation_point\":mutation_loc_unique})  # 确保为左右端点一一对应关系\n",
    "all_mutation_unique = all_mutation_filter.merge(mutation_loc_unique,on='mutation_point',how='inner')\n",
    "# all_mutation_unique\n",
    "left_mutation_unique = all_mutation_unique.loc[all_mutation_unique[\"code\"]==1].reset_index(drop=True)\n",
    "right_mutation_unique = all_mutation_unique.loc[all_mutation_unique[\"code\"]==0].reset_index(drop=True)\n",
    "left_unique_bound = left_mutation_unique['mutation_point']\n",
    "right_unique_bound = right_mutation_unique['mutation_point']"
   ]
  },
  {
   "cell_type": "code",
   "execution_count": null,
   "metadata": {},
   "outputs": [],
   "source": [
    "plt.rcParams['axes.facecolor'] = 'whitesmoke'\n",
    "fig = plt.figure(figsize=(13,6))\n",
    "plt.plot(Ia, c='grey',zorder=-5)\n",
    "plt.scatter(left_unique_bound,Ia[left_unique_bound],marker='^',c='teal',linewidths=4,zorder=1)\n",
    "plt.vlines(x=left_unique_bound,ymin = Ia.min(),ymax=Ia.max(),linestyles='dashed',colors=\"teal\")\n",
    "plt.grid(True,zorder=-6)\n",
    "plt.scatter(right_unique_bound,Ia[right_unique_bound],marker='v',c='burlywood',linewidths=4,zorder=2)\n",
    "plt.vlines(x=right_unique_bound,ymin = Ia.min(),ymax=Ia.max(),linestyles='dashed',colors=\"burlywood\")\n",
    "plt.title(\"Results\",size=18)"
   ]
  },
  {
   "cell_type": "markdown",
   "metadata": {},
   "source": [
    "6.筛选策略4：删除处于工作状态的“状态点”"
   ]
  },
  {
   "cell_type": "code",
   "execution_count": null,
   "metadata": {},
   "outputs": [],
   "source": [
    "# （2）筛选状态点\n",
    "def get_standby(data):\n",
    "    \"\"\"\n",
    "    判断最大值和最小值之间是否差20倍，如果差距过大，则进行筛选，否则不筛选\n",
    "    \"\"\"\n",
    "    data = data.sort_values(ascending=True)\n",
    "    if data[0]==0:  # 基本全为0的情况不筛选  可以根据需要筛选\n",
    "        return data.reset_index(drop=False)\n",
    "    elif np.max(data)/(np.min(data)+0.01) >20: #20 2.69 0.1  # 有些情况不需要筛选状态点\n",
    "        print(np.max(data)/(np.min(data)+0.0001))\n",
    "        print(np.max(data))\n",
    "        uplimit = np.percentile(data,75)\n",
    "        downlimit = np.percentile(data,25)\n",
    "        limit = uplimit + (uplimit-downlimit)\n",
    "        out = data[data<limit].reset_index(drop=False)\n",
    "        return out\n",
    "    else:\n",
    "        return data.reset_index(drop=False)"
   ]
  },
  {
   "cell_type": "code",
   "execution_count": null,
   "metadata": {},
   "outputs": [],
   "source": [
    "#1 根据电流值聚类得出正常范围的点\n",
    "# Ia_raw_table_left = left_mutation_unique.loc[left_mutation_unique[\"mutation_point\"]==left_unique_bound.values,\"Ia_raw\"]\n",
    "Ia_raw_table_left = left_mutation_unique.loc[:,\"Ia_raw\"]\n",
    "Ia_raw_table_left_standby = get_standby(Ia_raw_table_left)\n",
    "index_left_standby = Ia_raw_table_left_standby[\"index\"]\n",
    "# 获得正常范围内的点的dataframe\n",
    "left_mutation_unique_better = left_mutation_unique.loc[index_left_standby,:].sort_values(by=\"mutation_point\").reset_index(drop=True)\n",
    "left_unique_bound_better = left_mutation_unique_better[\"mutation_point\"]"
   ]
  },
  {
   "cell_type": "code",
   "execution_count": null,
   "metadata": {},
   "outputs": [],
   "source": [
    "#1 根据电流值聚类得出正常范围的点\n",
    "Ia_raw_table_right = right_mutation_unique.loc[:,\"Ia_raw\"]\n",
    "Ia_raw_table_right_standby = get_standby(Ia_raw_table_right) \n",
    "index_right_standby = Ia_raw_table_right_standby[\"index\"]\n",
    "#2 获得正常范围内的点的dataframe\n",
    "right_mutation_unique_better = right_mutation_unique.loc[index_right_standby,:].sort_values(by=\"mutation_point\").reset_index(drop=True)\n",
    "right_unique_bound_better = right_mutation_unique_better[\"mutation_point\"]"
   ]
  },
  {
   "cell_type": "code",
   "execution_count": null,
   "metadata": {},
   "outputs": [],
   "source": [
    "plt.rcParams['axes.facecolor'] = 'whitesmoke'\n",
    "fig = plt.figure(figsize=(13,6))\n",
    "plt.plot(Ia, c='grey',zorder=-5)\n",
    "index_var_left = left_unique_bound_better.values\n",
    "plt.scatter(index_var_left,Ia[index_var_left],marker='^',c='teal',linewidths=4,zorder=1)\n",
    "plt.vlines(x=index_var_left,ymin = Ia.min(),ymax=Ia.max(),linestyles='dashed',colors=\"teal\")\n",
    "plt.grid(True,zorder=-6)\n",
    "index_var_right = right_unique_bound_better.values\n",
    "plt.scatter(index_var_right,Ia[index_var_right],marker='v',c='burlywood',linewidths=4,zorder=2)\n",
    "plt.vlines(x=index_var_right,ymin = Ia.min(),ymax=Ia.max(),linestyles='dashed',colors=\"burlywood\")\n",
    "plt.title(\"Results\",size=18)\n"
   ]
  },
  {
   "cell_type": "markdown",
   "metadata": {},
   "source": [
    "##### 7.修正策略1：确保左右边界数量一样多"
   ]
  },
  {
   "cell_type": "code",
   "execution_count": null,
   "metadata": {},
   "outputs": [],
   "source": [
    "left_unique_bound_len = left_unique_bound_better.copy()\n",
    "right_unique_bound_len = right_unique_bound_better.copy()\n",
    "len_left = len(left_unique_bound_len)\n",
    "len_right = len(right_unique_bound_len)\n",
    "len_Ia = len(Ia)\n",
    "if len_left<len_right:\n",
    "    left_unique_bound_len = pd.Series(np.insert(np.array(left_unique_bound_len),0,0)) # 补充起始点\n",
    "elif len_left>len_right:\n",
    "    right_unique_bound_len = right_unique_bound_len.append(pd.Series([len(Ia)]),ignore_index=True)  # 补充末位点\n",
    "else:\n",
    "    if left_unique_bound_len[0]>right_unique_bound_len[0]:  # 左端点起始点大于右端点起始点\n",
    "        left_unique_bound_len = np.insert(np.array(left_unique_bound_len),0,0)\n",
    "        right_unique_bound_len = np.append(np.array(right_unique_bound_len),len(Ia))\n",
    "\n",
    "    "
   ]
  },
  {
   "cell_type": "code",
   "execution_count": null,
   "metadata": {},
   "outputs": [],
   "source": [
    "plt.rcParams['axes.facecolor'] = 'whitesmoke'\n",
    "fig = plt.figure(figsize=(13,6))\n",
    "plt.plot(Ia, c='grey',zorder=-5)\n",
    "plt.scatter(left_unique_bound_len,Ia[left_unique_bound_len],marker='^',c='teal',linewidths=4,zorder=1)\n",
    "plt.vlines(x=left_unique_bound_len,ymin = Ia.min(),ymax=Ia.max(),linestyles='dashed',colors=\"teal\")\n",
    "plt.grid(True,zorder=-6)\n",
    "plt.scatter(right_unique_bound_len,Ia[right_unique_bound_len],marker='v',c='burlywood',linewidths=4,zorder=2)\n",
    "plt.vlines(x=right_unique_bound_len,ymin = Ia.min(),ymax=Ia.max(),linestyles='dashed',colors=\"burlywood\")\n",
    "plt.title(\"Results\",size=18)"
   ]
  },
  {
   "cell_type": "code",
   "execution_count": null,
   "metadata": {},
   "outputs": [],
   "source": [
    "plt.rcParams['axes.facecolor'] = 'whitesmoke'\n",
    "plt.close('all')\n",
    "fig = plt.figure(figsize=(13,6),facecolor=\"w\",edgecolor=\"w\")\n",
    "plt.plot(Ia,color='lightsteelblue',zorder=1)\n",
    "rounds = min(len(left_unique_bound_len),len(right_unique_bound_len))\n",
    "for idx in range(rounds):\n",
    "    start = left_unique_bound_len[idx]\n",
    "    end = right_unique_bound_len[idx]\n",
    "    cur_Ia = Ia[start:end]\n",
    "    plt.plot(cur_Ia, alpha=0.9,zorder=2)\n",
    "#     plt.vlines(x=start,ymin=Ia_ham.min(),ymax=Ia_ham.max(),colors='blue',linestyles=':', zorder=layer,label='Data samples:%s' %layer)\n",
    "#     plt.vlines(x=end,ymin=Ia_ham.min(),ymax=Ia_ham.max(),colors='red',linestyles=':', zorder=layer,label='Data samples:%s' %layer)\n",
    "    arrow_idx = (start+end)/2\n",
    "    plt.annotate('%s' % (idx+1), xy=(arrow_idx, max(Ia_ham)*0.87), xytext=(arrow_idx-2000, max(Ia_ham)),size=12,\n",
    "      arrowprops=dict(facecolor='lightgray', shrink=0.01),zorder=2 ,horizontalalignment='left',verticalalignment='bottom')\n",
    "plt.grid(True, zorder=-6)\n",
    "plt.title(\"Results by Simple Method\",size=18)\n",
    "\n"
   ]
  },
  {
   "cell_type": "code",
   "execution_count": null,
   "metadata": {},
   "outputs": [],
   "source": [
    "K1 = 300\n",
    "wave_len = right_unique_bound_len-left_unique_bound_len\n",
    "state_table = pd.DataFrame({\"start_idx\":left_unique_bound_len,\"end_idx\":right_unique_bound_len,\"wave_len\":wave_len})\n",
    "state_table_filter = state_table.loc[state_table[\"wave_len\"]>K1,:].reset_index(drop=True)\n",
    "\n"
   ]
  },
  {
   "cell_type": "markdown",
   "metadata": {},
   "source": [
    "##### 9.修正策略2：剔除短暂工作状态"
   ]
  },
  {
   "cell_type": "code",
   "execution_count": null,
   "metadata": {},
   "outputs": [],
   "source": [
    "K1 = 300\n",
    "wave_len = right_unique_bound_len-left_unique_bound_len\n",
    "state_table = pd.DataFrame({\"start_idx\":left_unique_bound_len,\"end_idx\":right_unique_bound_len,\"wave_len\":wave_len})\n",
    "state_table_filter = state_table.loc[state_table[\"wave_len\"]>K1,:].reset_index(drop=True)"
   ]
  },
  {
   "cell_type": "code",
   "execution_count": null,
   "metadata": {},
   "outputs": [],
   "source": [
    "left_unique_bound_filter = state_table_filter[\"start_idx\"]\n",
    "right_unique_bound_filter = state_table_filter[\"end_idx\"]\n",
    "plt.rcParams['axes.facecolor'] = 'whitesmoke'\n",
    "plt.close('all')\n",
    "fig = plt.figure(figsize=(13,6),facecolor=\"w\",edgecolor=\"w\")\n",
    "plt.plot(Ia,color='lightsteelblue',zorder=1)\n",
    "rounds = min(len(left_unique_bound_filter),len(right_unique_bound_filter))\n",
    "for idx in range(rounds):\n",
    "    start = left_unique_bound_filter[idx]\n",
    "    end = right_unique_bound_filter[idx]\n",
    "    cur_Ia = Ia[start:end]\n",
    "    plt.plot(cur_Ia, alpha=0.9,zorder=2)\n",
    "#     plt.vlines(x=start,ymin=Ia_ham.min(),ymax=Ia_ham.max(),colors='blue',linestyles=':', zorder=layer,label='Data samples:%s' %layer)\n",
    "#     plt.vlines(x=end,ymin=Ia_ham.min(),ymax=Ia_ham.max(),colors='red',linestyles=':', zorder=layer,label='Data samples:%s' %layer)\n",
    "    arrow_idx = (start+end)/2\n",
    "    plt.annotate('%s' % (idx+1), xy=(arrow_idx, max(Ia_ham)*0.87), xytext=(arrow_idx-2000, max(Ia_ham)),size=12,\n",
    "      arrowprops=dict(facecolor='lightgray', shrink=0.01),zorder=2 ,horizontalalignment='left',verticalalignment='bottom')\n",
    "plt.grid(True, zorder=-6)\n",
    "plt.title(\"Results by Simple Method\",size=18)\n"
   ]
  },
  {
   "cell_type": "code",
   "execution_count": null,
   "metadata": {},
   "outputs": [],
   "source": []
  },
  {
   "cell_type": "code",
   "execution_count": null,
   "metadata": {},
   "outputs": [],
   "source": [
    "\n",
    "# def draw(left_side,right_side):\n",
    "#     def decorate(func):\n",
    "#         def wrapper(*args,**kw):\n",
    "#             \"\"\"\n",
    "#             用于画图的装饰期间函数\n",
    "#             \"\"\"\n",
    "#             out = func(*args,**kw)\n",
    "#             # 调用画图函数\n",
    "#             plt.rcParams['axes.facecolor'] = 'whitesmoke'\n",
    "#             fig = plt.figure(figsize=(13,6))\n",
    "#             plt.plot(Ia, c='grey',zorder=-5)\n",
    "#             index_left = left_side\n",
    "#             plt.scatter(index_left,Ia[index_left],marker='^',c='teal',linewidths=4,zorder=1)\n",
    "#             plt.vlines(x=left_unique_bound_len,ymin = Ia.min(),ymax=Ia.max(),linestyles='dashed',colors=\"teal\")\n",
    "#             plt.grid(True,zorder=-6)\n",
    "#             index_right = right_side\n",
    "#             plt.scatter(index_right,Ia[index_right],marker='v',c='burlywood',linewidths=4,zorder=2)\n",
    "#             plt.vlines(x=index_right,ymin = Ia.min(),ymax=Ia.max(),linestyles='dashed',colors=\"burlywood\")\n",
    "#             plt.title(\"Results\",size=18)\n",
    "            \n",
    "#             return out\n",
    "#         return wrapper\n",
    "#     return decorate"
   ]
  },
  {
   "cell_type": "code",
   "execution_count": null,
   "metadata": {},
   "outputs": [],
   "source": []
  },
  {
   "cell_type": "code",
   "execution_count": null,
   "metadata": {},
   "outputs": [],
   "source": []
  }
 ],
 "metadata": {
  "kernelspec": {
   "display_name": "Python 3",
   "language": "python",
   "name": "python3"
  },
  "language_info": {
   "codemirror_mode": {
    "name": "ipython",
    "version": 3
   },
   "file_extension": ".py",
   "mimetype": "text/x-python",
   "name": "python",
   "nbconvert_exporter": "python",
   "pygments_lexer": "ipython3",
   "version": "3.6.5"
  }
 },
 "nbformat": 4,
 "nbformat_minor": 2
}
